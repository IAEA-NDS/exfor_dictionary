{
 "cells": [
  {
   "cell_type": "markdown",
   "metadata": {},
   "source": [
    "## Introduction to the EXFOR dictionary in JSON\n",
    "You may find many mysterious keywords in EXFOR entries such as:\n",
    "\n",
    "> INSTITUTE  (1USALAS)\\\n",
    "> REFERENCE  (R,LA-1258,1951)\\\n",
    "> FACILITY   (CCW,1USALAS)\\\n",
    "> DETECTOR   (THRES) \\\n",
    "> REACTION   (2-HE-4(N,2N)2-HE-3,,SIG,,SPA)\\\n",
    "\n",
    "These keywords are defined in the so-called EXFOR dictionary which is maintained in the IAEA Nuclear Data Section. The original format of the EXFOR dictionary is in the Fortran style fixed-width format. Each keyword is separated in the block that starts with ```DICTION```. There are 40 definitions (```DICTION```) that define such keywords. For example, you will find ```1USALAS``` means \"Los Alamos National Laboratory, NM\" in ```DICTION 3 Institutes```."
   ]
  },
  {
   "cell_type": "code",
   "execution_count": 38,
   "metadata": {},
   "outputs": [],
   "source": [
    "import json"
   ]
  },
  {
   "cell_type": "code",
   "execution_count": 39,
   "metadata": {},
   "outputs": [
    {
     "name": "stdout",
     "output_type": "stream",
     "text": [
      "{'x4code': '1USALAS', 'description': 'Los Alamos National Laboratory, Nm', 'active': True}\n"
     ]
    }
   ],
   "source": [
    "##  INSTITUTE  (1USALAS)\n",
    "\n",
    "j = open(\"json/Diction-3-Institutes.json\")\n",
    "diction = json.load(j)\n",
    "print(diction[\"children\"][\"1USALAS\"])"
   ]
  },
  {
   "cell_type": "code",
   "execution_count": 40,
   "metadata": {},
   "outputs": [
    {
     "name": "stdout",
     "output_type": "stream",
     "text": [
      "{\n",
      "  \"x4code\": \"LA-\",\n",
      "  \"description\": \"Los Alamos Scientific Lab. Reports\",\n",
      "  \"publisher\": \"1USALAS\",\n",
      "  \"publisher_name\": \"Los Alamos National Laboratory, NM\",\n",
      "  \"active\": true\n",
      "}\n"
     ]
    }
   ],
   "source": [
    "## REFERENCE  (R,LA-1258,1951)\n",
    "\n",
    "j = open(\"json/Diction-6-Reports.json\")\n",
    "diction = json.load(j)\n",
    "\n",
    "# However, it causes key error\n",
    "# print(diction[\"children\"][\"LA-1258\"])\n",
    "print(json.dumps(diction[\"children\"][\"LA-\"], indent = 2))  # this is what we need"
   ]
  },
  {
   "cell_type": "code",
   "execution_count": 41,
   "metadata": {},
   "outputs": [
    {
     "name": "stdout",
     "output_type": "stream",
     "text": [
      "{\n",
      "  \"x4code\": \"CCW\",\n",
      "  \"description\": \"Cockcroft-Walton Accelerator\",\n",
      "  \"active\": true\n",
      "}\n"
     ]
    }
   ],
   "source": [
    "## FACILITY   (CCW,1USALAS)\n",
    "## If there is two keywords separated by \",\", then the first one is the type of facility and the second one is the institute where the facility locates.\n",
    "\n",
    "j = open(\"json/Diction-18-Facilities.json\")\n",
    "diction = json.load(j)\n",
    "print(json.dumps(diction[\"children\"][\"CCW\"], indent = 2))"
   ]
  },
  {
   "cell_type": "code",
   "execution_count": 42,
   "metadata": {},
   "outputs": [
    {
     "name": "stdout",
     "output_type": "stream",
     "text": [
      "{\n",
      "  \"x4code\": \"THRES\",\n",
      "  \"description\": \"Threshold Detector\",\n",
      "  \"active\": true\n",
      "}\n"
     ]
    }
   ],
   "source": [
    "## DETECTOR   (THRES) \n",
    "\n",
    "j = open(\"json/Diction-22-Detectors.json\")\n",
    "diction = json.load(j)\n",
    "print(json.dumps(diction[\"children\"][\"THRES\"], indent = 2))"
   ]
  },
  {
   "cell_type": "markdown",
   "metadata": {},
   "source": [
    "-----------------------------------------------------------------------------------\n",
    "\n",
    "In a way analogous to a chemical equation, the nuclear reaction can be expressed as \n",
    "\n",
    "```Target nucleus + projectile --> Final nucleus + ejectile```. \n",
    "\n",
    "![image](SF.png)\n",
    "\n",
    "REACTION in the EXFOR entry specifies the reaction and quantity at the same time. Starting from sabfield (SF) 1, the target nucleus, to 8 as the comma separating the subfields. Each SF has different ```DICTION``` for the definition. By reconstructing the information taken from the EXFOR dictionay, ```(2-HE-4(N,2N)2-HE-3,,SIG,,SPA)``` is the He4 neutron induced He3 production reaction cross section measurement in a broad incident energy spectrum."
   ]
  },
  {
   "cell_type": "code",
   "execution_count": 43,
   "metadata": {},
   "outputs": [
    {
     "name": "stdout",
     "output_type": "stream",
     "text": [
      "{\n",
      "  \"x4code\": \"SIG\",\n",
      "  \"description\": \"Cross section\",\n",
      "  \"active\": true\n",
      "}\n"
     ]
    }
   ],
   "source": [
    "## REACTION   (2-HE-4(N,2N)2-HE-3,,SIG,,SPA)\n",
    "## What is SIG?\n",
    "\n",
    "j = open(\"json/Diction-32-Parameters (REACTION SF 6).json\")\n",
    "diction = json.load(j)\n",
    "print(json.dumps(diction[\"children\"][\"SIG\"], indent = 2))\n"
   ]
  },
  {
   "cell_type": "code",
   "execution_count": 44,
   "metadata": {},
   "outputs": [
    {
     "name": "stdout",
     "output_type": "stream",
     "text": [
      "{\n",
      "  \"x4code\": \"SPA\",\n",
      "  \"description\": \"Spectrum average\",\n",
      "  \"active\": true\n",
      "}\n"
     ]
    }
   ],
   "source": [
    "## REACTION   (2-HE-4(N,2N)2-HE-3,,SIG,,SPA)\n",
    "## What is SPA?\n",
    "\n",
    "j = open(\"json/Diction-34-Modifiers (REACTION SF 8).json\")\n",
    "diction = json.load(j)\n",
    "print(json.dumps(diction[\"children\"][\"SPA\"], indent = 2))\n"
   ]
  }
 ],
 "metadata": {
  "kernelspec": {
   "display_name": "Python 3 (ipykernel)",
   "language": "python",
   "name": "python3"
  },
  "language_info": {
   "codemirror_mode": {
    "name": "ipython",
    "version": 3
   },
   "file_extension": ".py",
   "mimetype": "text/x-python",
   "name": "python",
   "nbconvert_exporter": "python",
   "pygments_lexer": "ipython3",
   "version": "3.9.12"
  },
  "vscode": {
   "interpreter": {
    "hash": "df033e8d0e298dc1f3676ab5bdf320136f92d1efe4dcb6eef05add379e1ab164"
   }
  }
 },
 "nbformat": 4,
 "nbformat_minor": 4
}
