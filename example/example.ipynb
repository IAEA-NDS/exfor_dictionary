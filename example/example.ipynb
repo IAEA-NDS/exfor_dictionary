{
 "cells": [
  {
   "cell_type": "markdown",
   "metadata": {},
   "source": [
    "## Introduction to the EXFOR dictionary in JSON\n",
    "You may find many mysterious keywords in EXFOR entries such as:\n",
    "\n",
    "> INSTITUTE  (1USALAS)\\\n",
    "> REFERENCE  (R,LA-1258,1951)\\\n",
    "> FACILITY   (CCW,1USALAS)\\\n",
    "> DETECTOR   (THRES) \\\n",
    "> REACTION   (2-HE-4(N,2N)2-HE-3,,SIG,,SPA)\\\n",
    "\n",
    "These keywords are defined in the so-called EXFOR dictionary which is maintained in the IAEA Nuclear Data Section. The original format of the EXFOR dictionary is in the Fortran style fixed-width format. Each keyword is separated in the block that starts with ```DICTION```. There are 40 definitions (```DICTION```) that define such keywords. For example, you will find ```1USALAS``` means \"Los Alamos National Laboratory, NM\" in ```DICTION 3 Institutes```."
   ]
  },
  {
   "cell_type": "code",
   "execution_count": null,
   "metadata": {},
   "outputs": [],
   "source": [
    "import json\n",
    "from exfor_dictionary import *"
   ]
  },
  {
   "cell_type": "code",
   "execution_count": null,
   "metadata": {},
   "outputs": [],
   "source": [
    "## Update to the latest dictionary\n",
    "# latest = update_dictionary_to_latest()\n",
    "\n",
    "j = open(\"src/exfor_dictionary/latest.json\")\n",
    "exfor_dictionary = json.load(j)"
   ]
  },
  {
   "cell_type": "code",
   "execution_count": null,
   "metadata": {},
   "outputs": [],
   "source": [
    "## Check what DICTION contain what kind of information\n",
    "for i, k in exfor_dictionary[\"definitions\"].items():\n",
    "    print(i, \"-->   \", k[\"description\"])"
   ]
  },
  {
   "cell_type": "code",
   "execution_count": null,
   "metadata": {},
   "outputs": [],
   "source": [
    "##  INSTITUTE  (1USALAS)\n",
    "print(json.dumps(exfor_dictionary[\"dictionaries\"][\"3\"][\"codes\"][\"1USALAS\"], indent = 2))"
   ]
  },
  {
   "cell_type": "code",
   "execution_count": null,
   "metadata": {},
   "outputs": [],
   "source": [
    "## REFERENCE  (R,LA-1258,1951)\n",
    "# However, if you specify \"LA-1258\", it causes key error\n",
    "print(json.dumps(exfor_dictionary[\"dictionaries\"][\"6\"][\"codes\"][\"LA-\"], indent = 2))  # this is what we need"
   ]
  },
  {
   "cell_type": "code",
   "execution_count": null,
   "metadata": {},
   "outputs": [],
   "source": [
    "## FACILITY   (CCW,1USALAS)\n",
    "## If there is two keywords separated by \",\", then the first one is the type of facility and the second one is the institute where the facility locates.\n",
    "print(json.dumps(exfor_dictionary[\"dictionaries\"][\"18\"][\"codes\"][\"CCW\"], indent = 2))"
   ]
  },
  {
   "cell_type": "code",
   "execution_count": null,
   "metadata": {},
   "outputs": [],
   "source": [
    "## DETECTOR   (THRES) \n",
    "print(json.dumps(exfor_dictionary[\"dictionaries\"][\"22\"][\"codes\"][\"THRES\"], indent = 2))"
   ]
  },
  {
   "cell_type": "code",
   "execution_count": null,
   "metadata": {},
   "outputs": [],
   "source": [
    "## REACTION   (2-HE-4(N,2N)2-HE-3,,SIG,,SPA)\n",
    "## What is SIG?"
   ]
  },
  {
   "cell_type": "markdown",
   "metadata": {},
   "source": [
    "-----------------------------------------------------------------------------------\n",
    "\n",
    "In a way analogous to a chemical equation, the nuclear reaction can be expressed as \n",
    "\n",
    "```Target nucleus + projectile --> Final nucleus + ejectile```. \n",
    "\n",
    "![image](example/SF.png)\n",
    "\n",
    "REACTION in the EXFOR entry specifies the reaction and quantity at the same time. Starting from sabfield (SF) 1, the target nucleus, to 8 as the comma separating the subfields. Each SF has different ```DICTION``` for the definition. By reconstructing the information taken from the EXFOR dictionay, ```(2-HE-4(N,2N)2-HE-3,,SIG,,SPA)``` is the He4 neutron induced He3 production reaction cross section measurement in a broad incident energy spectrum."
   ]
  },
  {
   "cell_type": "code",
   "execution_count": null,
   "metadata": {},
   "outputs": [],
   "source": [
    "print(json.dumps(exfor_dictionary[\"dictionaries\"][\"32\"][\"codes\"][\"SIG\"], indent = 2))"
   ]
  },
  {
   "cell_type": "code",
   "execution_count": null,
   "metadata": {},
   "outputs": [],
   "source": [
    "## REACTION   (2-HE-4(N,2N)2-HE-3,,SIG,,SPA)\n",
    "## What is SPA?\n",
    "print(json.dumps(exfor_dictionary[\"dictionaries\"][\"34\"][\"codes\"][\"SPA\"], indent = 2))"
   ]
  },
  {
   "cell_type": "code",
   "execution_count": null,
   "metadata": {},
   "outputs": [],
   "source": [
    "## You sometimes encounter a difficult combination of SF5 to SF8, then DICTION 236 will help you\n",
    "## https://www-nds.iaea.org/exfor/servlet/X4sGetSubent?reqx=338&subID=142675006\n",
    "## REACTION   (6-C-12(P,2P)5-B-11,PAR,POL/DA/DA/DE,P/P/P,ANA)\n",
    "\n",
    "print(json.dumps(exfor_dictionary[\"dictionaries\"][\"236\"][\"codes\"][\"PAR,POL/DA/DA/DE,*/*/*,ANA\"], indent = 2))"
   ]
  },
  {
   "cell_type": "code",
   "execution_count": null,
   "metadata": {},
   "outputs": [],
   "source": []
  }
 ],
 "metadata": {
  "kernelspec": {
   "display_name": "Python 3 (ipykernel)",
   "language": "python",
   "name": "python3"
  },
  "language_info": {
   "codemirror_mode": {
    "name": "ipython",
    "version": 3
   },
   "file_extension": ".py",
   "mimetype": "text/x-python",
   "name": "python",
   "nbconvert_exporter": "python",
   "pygments_lexer": "ipython3",
   "version": "3.9.12"
  },
  "vscode": {
   "interpreter": {
    "hash": "df033e8d0e298dc1f3676ab5bdf320136f92d1efe4dcb6eef05add379e1ab164"
   }
  }
 },
 "nbformat": 4,
 "nbformat_minor": 4
}
